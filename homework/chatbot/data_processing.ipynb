{
 "cells": [
  {
   "cell_type": "code",
   "execution_count": 5,
   "metadata": {},
   "outputs": [],
   "source": [
    "from langchain.text_splitter import CharacterTextSplitter\n",
    "from langchain.embeddings.openai import OpenAIEmbeddings\n",
    "from langchain.text_splitter import CharacterTextSplitter\n",
    "from langchain.vectorstores import FAISS\n",
    "\n",
    "scene = \"education_training\"\n",
    "\n",
    "with open(scene + \"_sales_data.txt\") as f:\n",
    "  sales_data = f.read()\n",
    "\n",
    "text_splitter = CharacterTextSplitter(\n",
    "  separator=r\"\\d+\\.\",\n",
    "  chunk_size=100,\n",
    "  chunk_overlap=0,\n",
    "  length_function=len,\n",
    "  is_separator_regex=True,\n",
    ")\n",
    "\n",
    "docs = text_splitter.create_documents([sales_data])\n",
    "db = FAISS.from_documents(docs, OpenAIEmbeddings())\n",
    "\n",
    "db.save_local(scene+\"_sales\")\n"
   ]
  }
 ],
 "metadata": {
  "kernelspec": {
   "display_name": "geektime",
   "language": "python",
   "name": "python3"
  },
  "language_info": {
   "codemirror_mode": {
    "name": "ipython",
    "version": 3
   },
   "file_extension": ".py",
   "mimetype": "text/x-python",
   "name": "python",
   "nbconvert_exporter": "python",
   "pygments_lexer": "ipython3",
   "version": "3.11.4"
  },
  "orig_nbformat": 4
 },
 "nbformat": 4,
 "nbformat_minor": 2
}
